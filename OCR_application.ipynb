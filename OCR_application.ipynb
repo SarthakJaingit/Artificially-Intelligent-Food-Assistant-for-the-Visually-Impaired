{
  "nbformat": 4,
  "nbformat_minor": 0,
  "metadata": {
    "colab": {
      "name": "OCR_application.ipynb",
      "provenance": [],
      "collapsed_sections": []
    },
    "kernelspec": {
      "name": "python3",
      "display_name": "Python 3"
    },
    "language_info": {
      "name": "python"
    }
  },
  "cells": [
    {
      "cell_type": "markdown",
      "metadata": {
        "id": "TZfUgklh7OuK"
      },
      "source": [
        "# Will need your own Calories Ninja API Key and Google Cloud Vision API Key to run. "
      ]
    },
    {
      "cell_type": "code",
      "metadata": {
        "id": "g2afJ0dXXVbv"
      },
      "source": [
        "import pandas as pd\n",
        "import requests\n",
        "import os\n",
        "\n",
        "# Google Libs\n",
        "!pip install --upgrade google-cloud-vision\n",
        "!pip install --upgrade google-cloud-speech\n",
        "!pip install --upgrade google-cloud-language\n",
        "!pip install --upgrade google-cloud-texttospeech\n",
        "!pip install PyDictionary\n",
        "!pip install fuzzywuzzy"
      ],
      "execution_count": null,
      "outputs": []
    },
    {
      "cell_type": "code",
      "metadata": {
        "id": "yrOqoqAfp44m"
      },
      "source": [
        "from google.cloud.vision_v1 import types\n",
        "import google.cloud.vision_v1\n",
        "from google.cloud import vision\n",
        "import re\n",
        "import requests"
      ],
      "execution_count": null,
      "outputs": []
    },
    {
      "cell_type": "markdown",
      "metadata": {
        "id": "_GfO-laP7nE5"
      },
      "source": [
        "## Insert your json file path from google cloud vision API"
      ]
    },
    {
      "cell_type": "code",
      "metadata": {
        "id": "3xQBj1zrdlFt"
      },
      "source": [
        "from google.colab import drive\n",
        "from google.colab import files\n",
        "\n",
        "drive.mount(\"/content/drive/\", force_remount = True)\n",
        "\n",
        "uploaded = files.upload()\n",
        "\n",
        "for fn in uploaded.keys():\n",
        "  print('User uploaded file \"{name}\" with length {length} bytes'.format(name=fn, length=len(uploaded[fn])))"
      ],
      "execution_count": null,
      "outputs": []
    },
    {
      "cell_type": "code",
      "metadata": {
        "id": "GhzAk4zao_E2"
      },
      "source": [
        "# Imports Credential File:\n",
        "os.environ[\"GOOGLE_APPLICATION_CREDENTIALS\"] = \"[Json file path]\"\n",
        "print(\"Service Account Key: {}\".format(os.environ[\"GOOGLE_APPLICATION_CREDENTIALS\"]))"
      ],
      "execution_count": null,
      "outputs": []
    },
    {
      "cell_type": "code",
      "metadata": {
        "colab": {
          "base_uri": "https://localhost:8080/"
        },
        "id": "60Q6N9tJpmzv",
        "outputId": "d1c80bf7-4b7d-44ef-aa50-b3e635658603"
      },
      "source": [
        "def detect_text_uri(uri):\n",
        "    \"\"\"Detects logos in the file located in Google Cloud Storage or on the Web.\n",
        "    \"\"\"\n",
        "    # Imports the Google Cloud client library\n",
        "    \n",
        "    \n",
        "    client = google.cloud.vision_v1.ImageAnnotatorClient()\n",
        "    image = google.cloud.vision_v1.types.Image()\n",
        "    image.source.image_uri = uri\n",
        "    print(image)\n",
        "\n",
        "    response = client.text_detection(image=image)\n",
        "    texts = response.text_annotations\n",
        "\n",
        "    return texts\n",
        "    \n",
        "text = detect_text_uri(\"https://world.openfoodfacts.org/images/products/930/060/145/1272/front_en.10.full.jpg\")"
      ],
      "execution_count": null,
      "outputs": [
        {
          "output_type": "stream",
          "name": "stdout",
          "text": [
            "source {\n",
            "  image_uri: \"https://world.openfoodfacts.org/images/products/930/060/145/1272/front_en.10.full.jpg\"\n",
            "}\n",
            "\n"
          ]
        }
      ]
    },
    {
      "cell_type": "code",
      "metadata": {
        "id": "Tf8GHzKUBUu3"
      },
      "source": [
        "def get_final_content(text):\n",
        "\n",
        "  areas = list()\n",
        "  for phrase in text:\n",
        "    height = phrase.bounding_poly.vertices[-1].y - phrase.bounding_poly.vertices[0].y\n",
        "    width = phrase.bounding_poly.vertices[1].x - phrase.bounding_poly.vertices[0].x\n",
        "    area = height * width\n",
        "    areas.append(area)\n",
        "\n",
        "  content = list()\n",
        "  brand_name = None\n",
        "  for phrase in text:\n",
        "    content.append(phrase.description.lower())\n",
        "  \n",
        "  areas2ind = [(i, area) for i, area in enumerate(areas)]\n",
        "  areas2ind = sorted(areas2ind, reverse = True, key = lambda x:x[1])\n",
        "  kept_indices = [tup[0] for tup in areas2ind[:6]]\n",
        "  reduced_content = list()\n",
        "  for i in kept_indices: \n",
        "    regex = re.compile(r\"\\s\")\n",
        "    matches = regex.findall(content[i])\n",
        "    if not matches:\n",
        "      reduced_content.append(content[i])\n",
        "\n",
        "  final_str = ' '.join(reduced_content)\n",
        "  return final_str\n",
        "  \n"
      ],
      "execution_count": null,
      "outputs": []
    },
    {
      "cell_type": "code",
      "metadata": {
        "colab": {
          "base_uri": "https://localhost:8080/",
          "height": 36
        },
        "id": "5qGQIEJtFYTj",
        "outputId": "e9d828d1-0fb9-469f-f625-6e40eea56243"
      },
      "source": [
        "get_final_content(text)"
      ],
      "execution_count": null,
      "outputs": [
        {
          "output_type": "execute_result",
          "data": {
            "application/vnd.google.colaboratory.intrinsic+json": {
              "type": "string"
            },
            "text/plain": [
              "'orange juice coles 07:01.000659 litres'"
            ]
          },
          "metadata": {},
          "execution_count": 47
        }
      ]
    },
    {
      "cell_type": "markdown",
      "metadata": {
        "id": "SBLVeKNJ7unE"
      },
      "source": [
        "## Insert your Calories Ninja API key"
      ]
    },
    {
      "cell_type": "code",
      "metadata": {
        "id": "15v_va8zn8UE"
      },
      "source": [
        "api_url = 'https://api.calorieninjas.com/v1/nutrition?query='\n",
        "query = get_final_content(text)\n",
        "response = requests.get(api_url + query, headers={'X-Api-Key': '[Calories Ninja API]'})\n",
        "if response.status_code == requests.codes.ok:\n",
        "    response_dict = eval(response.text)\n",
        "else:\n",
        "    print(\"Error:\", response.status_code, response.text)"
      ],
      "execution_count": null,
      "outputs": []
    },
    {
      "cell_type": "code",
      "metadata": {
        "id": "ArDld12gLapO"
      },
      "source": [
        "def relay(response_dict):\n",
        "\n",
        "  # Get the top result that is why we use zero index\n",
        "  print(\"For a serving size of {} grams, Item {} has {} calories and {} grams \\\n",
        "of total fat and {} grams of sugar and {} milligrams of cholesterol\".format(\n",
        "            response_dict[\"items\"][0][\"serving_size_g\"], \n",
        "            response_dict[\"items\"][0][\"name\"], \n",
        "            response_dict[\"items\"][0][\"calories\"], \n",
        "            response_dict[\"items\"][0][\"fat_total_g\"], \n",
        "            response_dict[\"items\"][0][\"sugar_g\"], \n",
        "            response_dict[\"items\"][0][\"cholesterol_mg\"]\n",
        "        ))   "
      ],
      "execution_count": null,
      "outputs": []
    },
    {
      "cell_type": "code",
      "metadata": {
        "colab": {
          "base_uri": "https://localhost:8080/"
        },
        "id": "G4y-D8-VQW8t",
        "outputId": "101bd98e-2599-48ad-f06c-afdfbb60bc43"
      },
      "source": [
        "relay(response_dict)"
      ],
      "execution_count": null,
      "outputs": [
        {
          "output_type": "stream",
          "name": "stdout",
          "text": [
            "For a serving size of 100.0 grams, Item orange juice has 46.4 calories and 0.1 grams of total fat and 8.3 grams of sugar and 0 milligrams of cholesterol\n"
          ]
        }
      ]
    }
  ]
}